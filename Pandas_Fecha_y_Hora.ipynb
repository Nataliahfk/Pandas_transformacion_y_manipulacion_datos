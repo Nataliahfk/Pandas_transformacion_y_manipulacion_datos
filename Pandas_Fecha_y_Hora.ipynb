{
  "nbformat": 4,
  "nbformat_minor": 0,
  "metadata": {
    "colab": {
      "provenance": [],
      "authorship_tag": "ABX9TyOeF5jizjOpO5hYizSFGBtt",
      "include_colab_link": true
    },
    "kernelspec": {
      "name": "python3",
      "display_name": "Python 3"
    },
    "language_info": {
      "name": "python"
    }
  },
  "cells": [
    {
      "cell_type": "markdown",
      "metadata": {
        "id": "view-in-github",
        "colab_type": "text"
      },
      "source": [
        "<a href=\"https://colab.research.google.com/github/Nataliahfk/Pandas_transformacion_y_manipulacion_datos/blob/main/Pandas_Fecha_y_Hora.ipynb\" target=\"_parent\"><img src=\"https://colab.research.google.com/assets/colab-badge.svg\" alt=\"Open In Colab\"/></a>"
      ]
    },
    {
      "cell_type": "markdown",
      "source": [
        "##**Tipo datetime**"
      ],
      "metadata": {
        "id": "btj2E6LhIZ28"
      }
    },
    {
      "cell_type": "markdown",
      "source": [
        "La clase datetime es un tipo de datos que representa una fecha y hora específicas en Python. Permite trabajar y manipular datos de año, mes, día, hora, minuto, segundo y microsegundo, así como días de la semana, como lunes, martes, miércoles, etc. Esta clase está definida en el módulo datetime y es fundamental para manipular fechas y horas en Python. Con él es posible realizar operaciones de cálculo de diferencias entre fechas, formatear fechas y horas en diferentes formatos, además de ser muy útil para analizar datos que involucran series temporales.\n",
        "\n",
        "Con la biblioteca Pandas es posible realizar diversas operaciones con fechas y horas, como convertir datos de cadena a datetime, filtrar datos en función de intervalos de tiempo específicos, agregar datos por hora, día, mes o año, entre otras funcionalidades. Por tanto, con esta biblioteca es posible realizar diversas operaciones con fechas de forma sencilla y eficiente dentro de un conjunto de datos.\n",
        "\n",
        "**Biblioteca datetime**\n",
        "\n",
        "Podemos trabajar directamente con datetime a través de la biblioteca datetime, una biblioteca estándar de Python que proporciona clases para trabajar con fechas y horas. Con esta biblioteca, puede crear objetos de fecha y hora, realizar cálculos de tiempo, formatear fechas y horas en diferentes formatos y mucho más.\n",
        "\n",
        "Dentro de la biblioteca datetime, existe la clase de fecha y hora, que representa una fecha y hora específicas. Vea un ejemplo:"
      ],
      "metadata": {
        "id": "-hbyBbbRIgQz"
      }
    },
    {
      "cell_type": "code",
      "source": [
        "import datetime\n",
        "\n",
        "# creando un objeto datetime con la fecha y hora actual\n",
        "ahora = datetime.datetime.now()\n",
        "\n",
        "print(\"Fecha y hora actual:\", ahora)"
      ],
      "metadata": {
        "colab": {
          "base_uri": "https://localhost:8080/"
        },
        "id": "c9l3CEkaIlWc",
        "outputId": "3c14c0b3-890d-4e21-f7a1-97e09effdacb"
      },
      "execution_count": 2,
      "outputs": [
        {
          "output_type": "stream",
          "name": "stdout",
          "text": [
            "Fecha y hora actual: 2025-06-25 17:29:11.262475\n"
          ]
        }
      ]
    },
    {
      "cell_type": "markdown",
      "source": [
        "En este ejemplo, el método now() de la clase datetime se utiliza para crear un objeto que representa la fecha y hora actuales. El objeto resultante se almacena en la variable ahora y luego se imprime en la pantalla usando la función print().\n",
        "\n",
        "Otra clase importante en la biblioteca datetime es la clase date, que representa solo una fecha. Vea un ejemplo:"
      ],
      "metadata": {
        "id": "jC5c1BxNIzve"
      }
    },
    {
      "cell_type": "code",
      "source": [
        "import datetime\n",
        "# creando un objeto date con la fecha de hoy\n",
        "hoy = datetime.date.today()\n",
        "\n",
        "print(\"Fecha de hoy:\", hoy)"
      ],
      "metadata": {
        "colab": {
          "base_uri": "https://localhost:8080/"
        },
        "id": "7x2ax2ABI2-z",
        "outputId": "dfc62f60-1ee8-4160-d400-773e2bb0b017"
      },
      "execution_count": 3,
      "outputs": [
        {
          "output_type": "stream",
          "name": "stdout",
          "text": [
            "Fecha de hoy: 2025-06-25\n"
          ]
        }
      ]
    }
  ]
}